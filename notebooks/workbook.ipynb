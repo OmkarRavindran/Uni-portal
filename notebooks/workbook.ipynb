{
 "cells": [
  {
   "cell_type": "code",
   "execution_count": 1,
   "id": "d4e0a72c",
   "metadata": {},
   "outputs": [],
   "source": [
    "import os \n",
    "import sys\n",
    "project_root = os.path.abspath(os.path.join(os.getcwd(), '..'))\n",
    "if project_root not in sys.path:\n",
    "    sys.path.insert(0, project_root)"
   ]
  },
  {
   "cell_type": "code",
   "execution_count": 2,
   "id": "c3f9d439",
   "metadata": {},
   "outputs": [],
   "source": [
    "os.chdir(f'{project_root}')"
   ]
  },
  {
   "cell_type": "code",
   "execution_count": null,
   "id": "07492ca6",
   "metadata": {},
   "outputs": [],
   "source": [
    "from app.models.student_registration import Registration\n",
    "from app.models.auth import Authentication,Validate\n",
    "rego_obj=Registration()\n",
    "if rego_obj.file_created:\n",
    "    # First Student registration \n",
    "else: \n",
    "    # There is one student atleast"
   ]
  },
  {
   "cell_type": "code",
   "execution_count": 6,
   "id": "aa29dd4a",
   "metadata": {},
   "outputs": [
    {
     "data": {
      "text/plain": [
       "False"
      ]
     },
     "execution_count": 6,
     "metadata": {},
     "output_type": "execute_result"
    }
   ],
   "source": [
    "rego_obj.file_created"
   ]
  },
  {
   "cell_type": "code",
   "execution_count": null,
   "id": "aa4dc9e3",
   "metadata": {},
   "outputs": [],
   "source": []
  },
  {
   "cell_type": "code",
   "execution_count": 9,
   "id": "da28cadb",
   "metadata": {},
   "outputs": [
    {
     "data": {
      "text/plain": [
       "True"
      ]
     },
     "execution_count": 9,
     "metadata": {},
     "output_type": "execute_result"
    }
   ],
   "source": [
    "Validate.validate_email(\"adiasdad@university.com\")"
   ]
  },
  {
   "cell_type": "code",
   "execution_count": 3,
   "id": "59d0e5a7",
   "metadata": {},
   "outputs": [
    {
     "name": "stdout",
     "output_type": "stream",
     "text": [
      "User registered\n"
     ]
    }
   ],
   "source": [
    "from app.models.student_registration import Registration\n",
    "from app.models.auth import Authentication,Validate\n",
    "rego_obj=Registration()\n",
    "# Checks if dataset has one line if not \n",
    "## Code block for first registration  or creating user \n",
    "email='Aditya8anil@university.com'\n",
    "password='HelloWorld12345'\n",
    "first_name='Aditya'\n",
    "last_name=\"Anil\"\n",
    "if all((Validate.validate_email(email),Validate.validate_password(password),not Validate.check_email_exist(email))):\n",
    "    print('User registered')\n",
    "    rego_obj.register_student(email,password,first_name,last_name)\n",
    "else: \n",
    "    print('User not created')\n",
    "\n",
    "\n",
    "\n",
    "# Code for logging in \n",
    "# email='Aditya8anil@university.com'\n",
    "# password='HelloWorld12345'\n",
    "# user=Student(email,)"
   ]
  },
  {
   "cell_type": "code",
   "execution_count": 4,
   "id": "462e6844",
   "metadata": {},
   "outputs": [
    {
     "name": "stdout",
     "output_type": "stream",
     "text": [
      "Successfully logged in\n"
     ]
    }
   ],
   "source": [
    "# Code for logging in \n",
    "from app.models.user_student import Student\n",
    "import time \n",
    "email='Aditya8anil@university.com'\n",
    "password='HelloWorld12345'\n",
    "user=Student(email,password)\n",
    "if user.logged_in==True:\n",
    "    print(\"Already logged in\")\n",
    "else:\n",
    "    while True:\n",
    "        result = user.login()\n",
    "        if result == True:\n",
    "            print('Successfully logged in')\n",
    "            break\n",
    "        elif result == False:\n",
    "            print(\"Too many failed attempts. Waiting before retrying...\")\n",
    "            time.sleep(10)\n",
    "            user.auth_obj.login_attempts = 0 \n",
    "            user.login(input(\"Enter password again: \"))\n",
    "        else:\n",
    "            user.email=input('Wrong emails enter email again')\n",
    "\n",
    "# user.logout()"
   ]
  },
  {
   "cell_type": "code",
   "execution_count": 5,
   "id": "60eabe68",
   "metadata": {},
   "outputs": [
    {
     "name": "stdout",
     "output_type": "stream",
     "text": [
      "The number of enrollments are 0\n",
      "True\n",
      "{'PROC2913': [7, 'Z'], 'GENO6418': [24, 'Z'], 'OBJE3718': [72, 'C'], 'BETT4313': [7, 'Z']}\n"
     ]
    }
   ],
   "source": [
    "# Enrollment page \n",
    "from app.models.enrollment import Enrollment\n",
    "enrollment=Enrollment(user)\n",
    "print(f'The number of enrollments are {enrollment.get_number_of_enrollments()}')\n",
    "print(enrollment.add_random_enroll()) \n",
    "print(enrollment.view_enrollments())"
   ]
  },
  {
   "cell_type": "code",
   "execution_count": 6,
   "id": "8a307d35",
   "metadata": {},
   "outputs": [
    {
     "data": {
      "text/plain": [
       "{'PROC2913': [7, 'Z'], 'GENO6418': [24, 'Z'], 'OBJE3718': [72, 'C']}"
      ]
     },
     "execution_count": 6,
     "metadata": {},
     "output_type": "execute_result"
    }
   ],
   "source": [
    "enrollment.unenroll_subject('BETT4313')\n",
    "enrollment.view_enrollments()"
   ]
  },
  {
   "cell_type": "code",
   "execution_count": 7,
   "id": "5cb1c1e2",
   "metadata": {},
   "outputs": [
    {
     "data": {
      "text/plain": [
       "True"
      ]
     },
     "execution_count": 7,
     "metadata": {},
     "output_type": "execute_result"
    }
   ],
   "source": [
    "from app.models.enrollment import EnrollmentUtils\n",
    "EnrollmentUtils.check_if_subject_id_valid(\"EVER7938\",enrollment.courses_df)"
   ]
  },
  {
   "cell_type": "code",
   "execution_count": null,
   "id": "a735afe6",
   "metadata": {},
   "outputs": [
    {
     "data": {
      "text/plain": [
       "{'PROC2913': [7, 'Z'], 'GENO6418': [24, 'Z'], 'OBJE3718': [72, 'C']}"
      ]
     },
     "execution_count": 8,
     "metadata": {},
     "output_type": "execute_result"
    }
   ],
   "source": [
    "enrollment.enroll_subject('EVER7938')\n",
    "EnrollmentUtils.get_random_mark()\n",
    "EnrollmentUtils.map_sub_to_mark('EVER7938')\n",
    "# enrollment.student.enrolled_subjects[\"EVER7938\"]=,\n",
    "# enrollment.view_enrollments()"
   ]
  },
  {
   "cell_type": "markdown",
   "id": "89a0c4ec",
   "metadata": {},
   "source": [
    "# Subject information "
   ]
  },
  {
   "cell_type": "code",
   "execution_count": 27,
   "id": "c985396d",
   "metadata": {},
   "outputs": [],
   "source": [
    "for x in enrollment.courses_df.sample(5).iterrows():\n",
    "    break"
   ]
  },
  {
   "cell_type": "code",
   "execution_count": 32,
   "id": "ba8b737f",
   "metadata": {},
   "outputs": [
    {
     "data": {
      "text/plain": [
       "Index(['Subject_ID', 'Course Name', 'Difficulty Level', 'Course Rating',\n",
       "       'Course Description', 'Skills'],\n",
       "      dtype='object')"
      ]
     },
     "execution_count": 32,
     "metadata": {},
     "output_type": "execute_result"
    }
   ],
   "source": [
    "enrollment.courses_df.sample(5).columns"
   ]
  },
  {
   "cell_type": "code",
   "execution_count": 13,
   "id": "0cb4749e",
   "metadata": {},
   "outputs": [],
   "source": [
    "from app.models.subject import Subject\n",
    "sub=Subject('CREA8001',19)"
   ]
  },
  {
   "cell_type": "code",
   "execution_count": 14,
   "id": "70f72658",
   "metadata": {},
   "outputs": [
    {
     "ename": "ValueError",
     "evalue": "The truth value of a DataFrame is ambiguous. Use a.empty, a.bool(), a.item(), a.any() or a.all().",
     "output_type": "error",
     "traceback": [
      "\u001b[0;31m---------------------------------------------------------------------------\u001b[0m",
      "\u001b[0;31mValueError\u001b[0m                                Traceback (most recent call last)",
      "\u001b[0;32m/var/folders/hz/0gp7b3kd2_dg6jc520kwpppm0000gn/T/ipykernel_8899/2370332805.py\u001b[0m in \u001b[0;36m?\u001b[0;34m()\u001b[0m\n\u001b[0;32m----> 1\u001b[0;31m \u001b[0msub\u001b[0m\u001b[0;34m.\u001b[0m\u001b[0mget_course_info\u001b[0m\u001b[0;34m(\u001b[0m\u001b[0menrollment\u001b[0m\u001b[0;34m.\u001b[0m\u001b[0mcourses_df\u001b[0m\u001b[0;34m)\u001b[0m\u001b[0;34m\u001b[0m\u001b[0;34m\u001b[0m\u001b[0m\n\u001b[0m",
      "\u001b[0;32m~/Desktop/Masters/Semester 1/Fundaments of Software Development/Assignments/Assignment2/uni_portal/app/models/subject.py\u001b[0m in \u001b[0;36m?\u001b[0;34m(self, courses_df)\u001b[0m\n\u001b[1;32m     35\u001b[0m     \u001b[0;32mdef\u001b[0m \u001b[0mget_course_info\u001b[0m\u001b[0;34m(\u001b[0m\u001b[0mself\u001b[0m\u001b[0;34m,\u001b[0m\u001b[0mcourses_df\u001b[0m\u001b[0;34m)\u001b[0m\u001b[0;34m:\u001b[0m\u001b[0;34m\u001b[0m\u001b[0;34m\u001b[0m\u001b[0m\n\u001b[1;32m     36\u001b[0m         \u001b[0mself\u001b[0m\u001b[0;34m.\u001b[0m\u001b[0mcourse_info\u001b[0m\u001b[0;34m=\u001b[0m\u001b[0mcourses_df\u001b[0m\u001b[0;34m[\u001b[0m\u001b[0mcourses_df\u001b[0m\u001b[0;34m[\u001b[0m\u001b[0mSUBJECT_ID_COL\u001b[0m\u001b[0;34m]\u001b[0m\u001b[0;34m==\u001b[0m\u001b[0mself\u001b[0m\u001b[0;34m.\u001b[0m\u001b[0msubject_id\u001b[0m\u001b[0;34m]\u001b[0m\u001b[0;34m\u001b[0m\u001b[0;34m\u001b[0m\u001b[0m\n\u001b[0;32m---> 37\u001b[0;31m         \u001b[0;32mif\u001b[0m \u001b[0mself\u001b[0m\u001b[0;34m.\u001b[0m\u001b[0mcourse_info\u001b[0m\u001b[0;34m:\u001b[0m\u001b[0;34m\u001b[0m\u001b[0;34m\u001b[0m\u001b[0m\n\u001b[0m\u001b[1;32m     38\u001b[0m             \u001b[0;32mreturn\u001b[0m \u001b[0;32mTrue\u001b[0m\u001b[0;34m\u001b[0m\u001b[0;34m\u001b[0m\u001b[0m\n\u001b[1;32m     39\u001b[0m         \u001b[0;32melse\u001b[0m\u001b[0;34m:\u001b[0m\u001b[0;34m\u001b[0m\u001b[0;34m\u001b[0m\u001b[0m\n\u001b[1;32m     40\u001b[0m             \u001b[0;32mreturn\u001b[0m \u001b[0;32mFalse\u001b[0m\u001b[0;34m\u001b[0m\u001b[0;34m\u001b[0m\u001b[0m\n",
      "\u001b[0;32m/opt/anaconda3/envs/kaggle/lib/python3.12/site-packages/pandas/core/generic.py\u001b[0m in \u001b[0;36m?\u001b[0;34m(self)\u001b[0m\n\u001b[1;32m   1574\u001b[0m     \u001b[0;34m@\u001b[0m\u001b[0mfinal\u001b[0m\u001b[0;34m\u001b[0m\u001b[0;34m\u001b[0m\u001b[0m\n\u001b[1;32m   1575\u001b[0m     \u001b[0;32mdef\u001b[0m \u001b[0m__nonzero__\u001b[0m\u001b[0;34m(\u001b[0m\u001b[0mself\u001b[0m\u001b[0;34m)\u001b[0m \u001b[0;34m->\u001b[0m \u001b[0mNoReturn\u001b[0m\u001b[0;34m:\u001b[0m\u001b[0;34m\u001b[0m\u001b[0;34m\u001b[0m\u001b[0m\n\u001b[0;32m-> 1576\u001b[0;31m         raise ValueError(\n\u001b[0m\u001b[1;32m   1577\u001b[0m             \u001b[0;34mf\"\u001b[0m\u001b[0;34mThe truth value of a \u001b[0m\u001b[0;34m{\u001b[0m\u001b[0mtype\u001b[0m\u001b[0;34m(\u001b[0m\u001b[0mself\u001b[0m\u001b[0;34m)\u001b[0m\u001b[0;34m.\u001b[0m\u001b[0m__name__\u001b[0m\u001b[0;34m}\u001b[0m\u001b[0;34m is ambiguous. \u001b[0m\u001b[0;34m\"\u001b[0m\u001b[0;34m\u001b[0m\u001b[0;34m\u001b[0m\u001b[0m\n\u001b[1;32m   1578\u001b[0m             \u001b[0;34m\"Use a.empty, a.bool(), a.item(), a.any() or a.all().\"\u001b[0m\u001b[0;34m\u001b[0m\u001b[0;34m\u001b[0m\u001b[0m\n\u001b[1;32m   1579\u001b[0m         \u001b[0;34m)\u001b[0m\u001b[0;34m\u001b[0m\u001b[0;34m\u001b[0m\u001b[0m\n",
      "\u001b[0;31mValueError\u001b[0m: The truth value of a DataFrame is ambiguous. Use a.empty, a.bool(), a.item(), a.any() or a.all()."
     ]
    }
   ],
   "source": [
    "sub.get_course_info(enrollment.courses_df)"
   ]
  },
  {
   "cell_type": "code",
   "execution_count": 19,
   "id": "d1be7790",
   "metadata": {},
   "outputs": [
    {
     "name": "stdout",
     "output_type": "stream",
     "text": [
      "24\n"
     ]
    }
   ],
   "source": [
    "from app.constants import SUBJECT_ID_COL\n",
    "if not enrollment.courses_df[enrollment.courses_df[SUBJECT_ID_COL]=='CREA8001'].empty:\n",
    "    print(24)"
   ]
  },
  {
   "cell_type": "code",
   "execution_count": null,
   "id": "6cca80c7",
   "metadata": {},
   "outputs": [
    {
     "data": {
      "text/plain": [
       "'Create a Buy Signal using RSI in R with the Quantmod Package'"
      ]
     },
     "execution_count": 23,
     "metadata": {},
     "output_type": "execute_result"
    }
   ],
   "source": [
    "sub.course_info['Course Name'].values[0]"
   ]
  },
  {
   "cell_type": "code",
   "execution_count": null,
   "id": "1308d833",
   "metadata": {},
   "outputs": [],
   "source": []
  }
 ],
 "metadata": {
  "kernelspec": {
   "display_name": "kaggle",
   "language": "python",
   "name": "kaggle"
  },
  "language_info": {
   "codemirror_mode": {
    "name": "ipython",
    "version": 3
   },
   "file_extension": ".py",
   "mimetype": "text/x-python",
   "name": "python",
   "nbconvert_exporter": "python",
   "pygments_lexer": "ipython3",
   "version": "3.12.9"
  }
 },
 "nbformat": 4,
 "nbformat_minor": 5
}
